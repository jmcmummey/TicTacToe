{
 "cells": [
  {
   "cell_type": "code",
   "execution_count": 30,
   "metadata": {},
   "outputs": [],
   "source": [
    "import numpy as np\n",
    "import numpy.random as r\n",
    "import pandas as pd\n",
    "import copy\n",
    "import matplotlib.pyplot as plt\n",
    "import time\n",
    "import seaborn as sns\n",
    "from collections import Counter\n",
    "from IPython.display import display, clear_output"
   ]
  },
  {
   "cell_type": "code",
   "execution_count": 31,
   "metadata": {},
   "outputs": [],
   "source": [
    "def is_winner(player):\n",
    "    \"\"\"\n",
    "    Checks if player has won\n",
    "    \"\"\"\n",
    "    win_set = [{0,1,2},{3,4,5},{6,7,8},{0,4,8},{0,3,6},{1,4,7},{2,4,6},{2,5,8}]\n",
    "    for a in win_set:\n",
    "        if player.issuperset(a):\n",
    "            return a\n",
    "    else:\n",
    "        return False\n",
    "    \n",
    "def is_entry(cb,md):\n",
    "    \"\"\"\n",
    "    Load entry from move dictionary else create one\n",
    "    \"\"\"\n",
    "    # is there an entry?\n",
    "    if cb in md: \n",
    "        prob = md[cb]\n",
    "    else: # if no\n",
    "        #create a new entry\n",
    "        num_empty = cb.count('E')\n",
    "        #count number of E's in current position\n",
    "        cell_p = 1/num_empty\n",
    "        prob = np.array([cell_p if cb[i]=='E' else 0 for i in range(9) ])\n",
    "        md[cb] = prob\n",
    "    return (prob,md)\n",
    "\n",
    "def make_move(prob_dist):\n",
    "    \"\"\"\n",
    "    Makes a move based on the probability distribution\n",
    "    \"\"\"\n",
    "    play = r.rand(1)\n",
    "    cprob = 0\n",
    "    for i in range(9):\n",
    "        cprob += prob_dist[i]\n",
    "        if play < cprob:\n",
    "            return i\n",
    "    return 8\n",
    "\n",
    "def findi(s, ch):\n",
    "    \"\"\"\n",
    "    finds all indicies of chr in string s\n",
    "    \"\"\"\n",
    "    return [i for i, ltr in enumerate(s) if ltr == ch]\n",
    "\n",
    "def play_token(current_board,i,player_no=1):\n",
    "    \"\"\"\n",
    "    Update gameboard based on current play\n",
    "    \"\"\"\n",
    "    #update gameboard\n",
    "    if player_no == 1:\n",
    "        cboard = current_board[:i] + 'X' + current_board[(i+1):]\n",
    "    else:    \n",
    "        cboard = current_board[:i] + 'O' + current_board[(i+1):]\n",
    "    return cboard\n",
    "\n",
    "def update_dict(mdict,pmoves,weight = 1):\n",
    "    \"\"\"\n",
    "    updates the move_dict based on the players moves (that led to a win)\n",
    "    \"\"\"\n",
    "    \n",
    "    learning_rate = 0.005*weight\n",
    "    \n",
    "    for board,cell in pmoves.items():\n",
    "        #get current prob\n",
    "        p = mdict[board]\n",
    "        #improve cell\n",
    "        p[cell] += learning_rate\n",
    "        mdict[board] = p/p.sum()\n",
    "    return mdict\n",
    "        \n",
    "\n",
    "def show_game(board,fig,ax):\n",
    "    \"\"\"\n",
    "    Plots the board, returns boolean when game ends\n",
    "    \"\"\"\n",
    "    over = False\n",
    "\n",
    "    #set up the plot space\n",
    "    ax.set_xlim(0.5,3.5)\n",
    "    ax.set_ylim(0.5,3.5)\n",
    "    ax.axhline(1.5,color='grey')\n",
    "    ax.axhline(2.5,color='grey')\n",
    "    ax.axvline(1.5,color='grey')\n",
    "    ax.axvline(2.5,color='grey')\n",
    "    ax.axes.get_xaxis().set_visible(False)\n",
    "    ax.axes.get_yaxis().set_visible(False)\n",
    "    \n",
    "\n",
    "    \n",
    "    play_x = set(findi(board,'X'))\n",
    "    play_o = set(findi(board,'O'))\n",
    "    cel_coord = {0:(1,3),1:(2,3),2:(3,3),3:(1,2),4:(2,2),5:(3,2),6:(1,1),7:(2,1),8:(3,1)}\n",
    "    for i in play_x:\n",
    "        ax.plot(cel_coord[i][0],cel_coord[i][1],'kX',markersize=52)\n",
    "        \n",
    "        #check if winner yet\n",
    "        if is_winner(play_x):\n",
    "            winning_set = is_winner(play_x)\n",
    "            pnt1 = -1\n",
    "            pnt2 = -1\n",
    "            for pnt in winning_set:\n",
    "                if (pnt1==-1)&(pnt2==-1):\n",
    "                    pnt1 = pnt\n",
    "                else:\n",
    "                    pnt2 = copy.deepcopy(pnt1)\n",
    "                    pnt1 = pnt\n",
    "                    ax.plot([cel_coord[pnt1][0],cel_coord[pnt2][0]],[cel_coord[pnt1][1],cel_coord[pnt2][1]],'g-',\\\n",
    "                            linewidth=4)\n",
    "            over = True\n",
    "    for i in play_o:\n",
    "        ax.plot(cel_coord[i][0],cel_coord[i][1],'ro',markeredgewidth=20,markerfacecolor='w',markersize=52)\n",
    "        \n",
    "        #check if winner yet\n",
    "        if is_winner(play_o):\n",
    "            winning_set = is_winner(play_o)\n",
    "            pnt1 = -1\n",
    "            pnt2 = -1\n",
    "            for pnt in winning_set:\n",
    "                if (pnt1==-1)&(pnt2==-1):\n",
    "                    pnt1 = pnt\n",
    "                else:\n",
    "                    pnt2 = copy.deepcopy(pnt1)\n",
    "                    pnt1 = pnt\n",
    "                    ax.plot([cel_coord[pnt1][0],cel_coord[pnt2][0]],[cel_coord[pnt1][1],cel_coord[pnt2][1]],'g-',\\\n",
    "                            linewidth=4)\n",
    "            over = True\n",
    "    display(fig)\n",
    "    clear_output(wait = True)\n",
    "    return over"
   ]
  },
  {
   "cell_type": "code",
   "execution_count": 27,
   "metadata": {
    "scrolled": false
   },
   "outputs": [
    {
     "name": "stdout",
     "output_type": "stream",
     "text": [
      "Complete\n"
     ]
    }
   ],
   "source": [
    "max_ind = {}\n",
    "win_log = []\n",
    "\n",
    "for trial in range(1):\n",
    "\n",
    "    move_dict = {}\n",
    "\n",
    "    # #set up the plot\n",
    "    # fig = plt.figure(figsize=(10,10))\n",
    "    # ax = fig.add_subplot(111)\n",
    "\n",
    "    #play n_games\n",
    "    for n_games in range(100000):\n",
    "\n",
    "        cboard = 'EEEEEEEEE' #initial board\n",
    "\n",
    "        #set up the player_moves\n",
    "        ply1_moves = {}\n",
    "        ply2_moves = {}\n",
    "\n",
    "        for move in range(9):\n",
    "            if (move%2) == 0:\n",
    "                player = 1\n",
    "            else:\n",
    "                player = 2\n",
    "\n",
    "            #load probability\n",
    "            (prob,move_dict) = is_entry(cboard,move_dict)\n",
    "            #make a selection\n",
    "            i = make_move(prob)\n",
    "\n",
    "            #save selection\n",
    "            if player==1:\n",
    "                ply1_moves[cboard] = i\n",
    "            else:\n",
    "                ply2_moves[cboard] = i  \n",
    "            #make move\n",
    "            cboard = play_token(cboard,i,player)\n",
    "            #check if there's a winner\n",
    "            if is_winner(set(findi(cboard,'X'))):\n",
    "                break\n",
    "            if is_winner(set(findi(cboard,'O'))):\n",
    "                break \n",
    "    #         if show_game(cboard,fig,ax):\n",
    "    #             break\n",
    "    #         time.sleep(.1)\n",
    "\n",
    "        #was there a winner?\n",
    "        if is_winner(set(findi(cboard,'X'))):\n",
    "            #player 1 wins\n",
    "            #print('Player 1 Wins game %d'%n_games)\n",
    "            move_dict = update_dict(move_dict,ply1_moves)\n",
    "            win_log.append('X')\n",
    "        elif is_winner(set(findi(cboard,'O'))):\n",
    "            #player 2 wins\n",
    "            #print('Player 2 Wins game %d'%n_games)\n",
    "            move_dict = update_dict(move_dict,ply2_moves)\n",
    "            win_log.append('O')\n",
    "        else:\n",
    "            #ties are better than a lose\n",
    "            move_dict = update_dict(move_dict,ply1_moves,.5)\n",
    "            move_dict = update_dict(move_dict,ply2_moves,.5)\n",
    "            win_log.append('T')\n",
    "    #     else:\n",
    "    #         print('Tie')\n",
    "    \n",
    "#     mind = move_dict['EEEEEEEEE'].argmax()\n",
    "#     if mind in {0,2,6,8}:\n",
    "#         max_ind['corner'] = max_ind.get('corner',0) + 1\n",
    "#     elif mind in {1,3,5,7}:\n",
    "#         max_ind['side'] = max_ind.get('side',0) + 1 \n",
    "#     elif mind in {4}:\n",
    "#         max_ind['center'] = max_ind.get('center',0) + 1\n",
    "print('Complete')\n"
   ]
  },
  {
   "cell_type": "code",
   "execution_count": 28,
   "metadata": {},
   "outputs": [],
   "source": [
    "cnts = [Counter(win_log[(1000*r):(1000*(r+1))])for r in range(0,100)]"
   ]
  },
  {
   "cell_type": "code",
   "execution_count": 29,
   "metadata": {},
   "outputs": [
    {
     "data": {
      "image/png": "[encoded data removed]",
      "text/plain": [
       "<Figure size 720x432 with 1 Axes>"
      ]
     },
     "metadata": {
      "needs_background": "light"
     },
     "output_type": "display_data"
    }
   ],
   "source": [
    "fig = plt.figure(figsize=(10,6))\n",
    "plt.plot(np.array([cnts[i]['X'] for i in range(len(cnts))])/10,'k-',label=\"X wins\")\n",
    "plt.plot(np.array([cnts[i]['O'] for i in range(len(cnts))])/10,'r-',label=\"O wins\")\n",
    "plt.plot(np.array([cnts[i]['T'] for i in range(len(cnts))])/10,'g-',label=\"Ties\")\n",
    "plt.xlabel('Game Number (000s)',fontsize=16)\n",
    "plt.ylabel('Win Percentage',fontsize=16)\n",
    "plt.legend(fontsize=16)\n",
    "plt.show()"
   ]
  },
  {
   "cell_type": "code",
   "execution_count": 6,
   "metadata": {},
   "outputs": [
    {
     "data": {
      "text/plain": [
       "array([[3.51236400e-198, 2.12015014e-191, 9.62157414e-172],\n",
       "       [5.57881471e-194, 1.00000000e+000, 1.88182166e-202],\n",
       "       [4.06584639e-194, 3.70232520e-191, 1.28065205e-185]])"
      ]
     },
     "execution_count": 6,
     "metadata": {},
     "output_type": "execute_result"
    }
   ],
   "source": [
    "move_dict['EEEEEEEEE'].reshape(3,-1)"
   ]
  },
  {
   "cell_type": "code",
   "execution_count": 10,
   "metadata": {},
   "outputs": [
    {
     "data": {
      "text/plain": [
       "array([[1.62779625e-156, 4.94041145e-165, 9.46370249e-157],\n",
       "       [1.06823869e-170, 0.00000000e+000, 3.63826155e-170],\n",
       "       [1.00000000e+000, 1.83846803e-171, 5.14380635e-161]])"
      ]
     },
     "execution_count": 10,
     "metadata": {},
     "output_type": "execute_result"
    }
   ],
   "source": [
    "move_dict['EEEEXEEEE'].reshape(3,-1)"
   ]
  },
  {
   "cell_type": "code",
   "execution_count": 11,
   "metadata": {},
   "outputs": [
    {
     "data": {
      "text/plain": [
       "array([[3.32250923e-156, 6.68496400e-165, 2.11223427e-167],\n",
       "       [1.00000000e+000, 0.00000000e+000, 8.37447102e-167],\n",
       "       [0.00000000e+000, 2.88973248e-142, 5.01502706e-158]])"
      ]
     },
     "execution_count": 11,
     "metadata": {},
     "output_type": "execute_result"
    }
   ],
   "source": [
    "move_dict['EEEEXEOEE'].reshape(3,-1)"
   ]
  },
  {
   "cell_type": "code",
   "execution_count": 12,
   "metadata": {},
   "outputs": [
    {
     "data": {
      "text/plain": [
       "array([[4.70312463e-157, 3.20277571e-157, 4.83558646e-159],\n",
       "       [0.00000000e+000, 0.00000000e+000, 1.00000000e+000],\n",
       "       [0.00000000e+000, 7.71270072e-157, 1.92274493e-156]])"
      ]
     },
     "execution_count": 12,
     "metadata": {},
     "output_type": "execute_result"
    }
   ],
   "source": [
    "move_dict['EEEXXEOEE'].reshape(3,-1)"
   ]
  },
  {
   "cell_type": "code",
   "execution_count": 13,
   "metadata": {},
   "outputs": [
    {
     "data": {
      "text/plain": [
       "array([1.40609055e-158, 4.24361187e-152, 5.84094565e-152, 0.00000000e+000,\n",
       "       0.00000000e+000, 0.00000000e+000, 0.00000000e+000, 1.79836875e-148,\n",
       "       1.00000000e+000])"
      ]
     },
     "execution_count": 13,
     "metadata": {},
     "output_type": "execute_result"
    }
   ],
   "source": [
    "move_dict['EEEXXOOEE']."
   ]
  },
  {
   "cell_type": "code",
   "execution_count": null,
   "metadata": {},
   "outputs": [],
   "source": [
    "move_dict['EEEXXOOXE']"
   ]
  },
  {
   "cell_type": "code",
   "execution_count": 18,
   "metadata": {},
   "outputs": [
    {
     "data": {
      "text/plain": [
       "False"
      ]
     },
     "execution_count": 18,
     "metadata": {},
     "output_type": "execute_result"
    },
    {
     "data": {
      "image/png": "[encoded data removed]",
      "text/plain": [
       "<Figure size 720x720 with 1 Axes>"
      ]
     },
     "metadata": {
      "needs_background": "light"
     },
     "output_type": "display_data"
    }
   ],
   "source": [
    "fig = plt.figure(figsize=(10,10))\n",
    "ax = fig.add_subplot(111)\n",
    "show_game('EEEXXOOEE',fig,fig.add_subplot(111))"
   ]
  },
  {
   "cell_type": "code",
   "execution_count": null,
   "metadata": {},
   "outputs": [],
   "source": []
  }
 ],
 "metadata": {
  "kernelspec": {
   "display_name": "Python 3",
   "language": "python",
   "name": "python3"
  },
  "language_info": {
   "codemirror_mode": {
    "name": "ipython",
    "version": 3
   },
   "file_extension": ".py",
   "mimetype": "text/x-python",
   "name": "python",
   "nbconvert_exporter": "python",
   "pygments_lexer": "ipython3",
   "version": "3.8.3"
  }
 },
 "nbformat": 4,
 "nbformat_minor": 4
}
