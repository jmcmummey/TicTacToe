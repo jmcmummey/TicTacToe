{
 "cells": [
  {
   "cell_type": "code",
   "execution_count": 1,
   "metadata": {},
   "outputs": [],
   "source": [
    "import numpy as np\n",
    "import json\n",
    "import pandas as pd\n",
    "import copy\n",
    "import matplotlib\n",
    "import matplotlib.pyplot as plt\n",
    "from matplotlib import cm\n",
    "from matplotlib.ticker import LinearLocator, FormatStrFormatter\n",
    "import time\n",
    "import scipy.stats as stats\n",
    "import seaborn as sns\n",
    "from collections import Counter\n",
    "from ipywidgets import widgets\n",
    "from IPython.display import display, clear_output"
   ]
  },
  {
   "cell_type": "code",
   "execution_count": 2,
   "metadata": {},
   "outputs": [],
   "source": [
    "text = widgets.Text()"
   ]
  },
  {
   "cell_type": "code",
   "execution_count": 3,
   "metadata": {},
   "outputs": [],
   "source": [
    "def handle_sender(sender):\n",
    "    print(text.value)"
   ]
  },
  {
   "cell_type": "code",
   "execution_count": 4,
   "metadata": {},
   "outputs": [
    {
     "data": {
      "text/plain": [
       "''"
      ]
     },
     "execution_count": 4,
     "metadata": {},
     "output_type": "execute_result"
    }
   ],
   "source": [
    "text.value"
   ]
  },
  {
   "cell_type": "code",
   "execution_count": 5,
   "metadata": {},
   "outputs": [],
   "source": [
    "class T3Player():\n",
    "    def __init__(self,dictname = \"bayes100k_b.json\"):\n",
    "        self.move_dict = self.read_dict(dictname)\n",
    "    def write_dict(self,filename,mdict):\n",
    "        \"\"\"\n",
    "        Stores the move dictionary as a json\n",
    "        INPUTS\n",
    "        filename(string)\n",
    "        mdict(dictionary)\n",
    "        OUTPUTS\n",
    "        errorflag (0) if failed\n",
    "        \"\"\"\n",
    "        try:\n",
    "            output_dict = {}\n",
    "            for k,v in mdict.items():\n",
    "                cell_dict = {}\n",
    "                for c,cell in enumerate(v):\n",
    "                    if type(cell)==int:\n",
    "                        cell_dict[c]={'alpha':0,'beta':0}\n",
    "                    else:\n",
    "                        cell_dict[c]={'alpha':int(cell[0]),'beta':int(cell[1])}\n",
    "                output_dict[k] = cell_dict\n",
    "            with open(filename, 'w') as outfile:\n",
    "                json.dump(output_dict, outfile)\n",
    "            return 1\n",
    "        except:\n",
    "            return 0\n",
    "    def read_dict(self,filename):\n",
    "        \"\"\"\n",
    "        Reads the move dictionary json file\n",
    "        INPUTS\n",
    "        filename(string)\n",
    "        OUTPUTS\n",
    "        mdict (dict)\n",
    "        \"\"\"\n",
    "        mdict = {}\n",
    "        with open(filename) as json_file:\n",
    "            data = json.load(json_file)\n",
    "            for k,v in data.items():\n",
    "                mdict[k] = np.array([[v[str(i)]['alpha'],v[str(i)]['beta']] if v[str(i)]['alpha']>0 else 0 for i in range(9)])\n",
    "        return mdict\n",
    "    def findi(self,s, ch):\n",
    "        \"\"\"\n",
    "        finds all indicies of chr in string s\n",
    "        \"\"\"\n",
    "        return [i for i, ltr in enumerate(s) if ltr == ch]\n",
    "    def is_entry(self,cb):\n",
    "        \"\"\"\n",
    "        Load entry from move dictionary or else creates one\n",
    "        inputs:\n",
    "        cb = current_board (string ex. 'EEEEEEEEE')\n",
    "        outputs:\n",
    "        prob,md - updated move_dictionary\n",
    "        \"\"\"\n",
    "        # is there an entry?\n",
    "        if cb in self.move_dict: \n",
    "            #get the stored probability coefficients\n",
    "            prob = self.move_dict[cb]\n",
    "        else: \n",
    "            #create a new entry\n",
    "            prob = np.array([[1,1] if cb[i]=='E' else 0 for i in range(9) ])\n",
    "            self.move_dict[cb] = prob\n",
    "        return prob\n",
    "    def is_winner(self,player):\n",
    "        \"\"\"\n",
    "        Checks if player has won\n",
    "        INPUT:\n",
    "        player - the set of indecies the player currently has a piece on.\n",
    "        \"\"\"\n",
    "        if player is not None:\n",
    "            win_set = [{0,1,2},{3,4,5},{6,7,8},{0,4,8},{0,3,6},{1,4,7},{2,4,6},{2,5,8}]\n",
    "            for a in win_set:\n",
    "                if player.issuperset(a):\n",
    "                    return a\n",
    "            else:\n",
    "                return False\n",
    "        return False\n",
    "    def make_move(self,prob_dist,cb):\n",
    "        \"\"\"\n",
    "        Makes a move based on the probability distribution\n",
    "        \"\"\"\n",
    "        #find all empty indexes\n",
    "        ind = self.findi(cb,'E')\n",
    "        #determine who's playing then check to see if there are any winning moves\n",
    "        #playing the winning move is possible, or blocking the opponent's winning move is necessary\n",
    "        nu_O = cb.count('O')\n",
    "        nu_X = cb.count('X')\n",
    "        \n",
    "        if nu_X>nu_O: #it's O's turn\n",
    "            #check if cell will win game\n",
    "            for cell in ind:\n",
    "                moves = set(self.findi(cb,'O'))\n",
    "                moves.add(cell)\n",
    "                if self.is_winner(moves) is not False:\n",
    "                    return cell\n",
    "            #else check if cell will prevent loss of game\n",
    "            for cell in ind:\n",
    "                moves = set(self.findi(cb,'X'))\n",
    "                moves.add(cell)\n",
    "                if self.is_winner(moves) is not False:\n",
    "                    return cell  \n",
    "        else: #it's X's turn\n",
    "            #check if cell will win game\n",
    "            for cell in ind:\n",
    "                moves = set(self.findi(cb,'X'))\n",
    "                moves.add(cell)\n",
    "                if self.is_winner(moves) is not False:\n",
    "                    return cell\n",
    "            #else check if cell will prevent loss of game\n",
    "            for cell in ind:\n",
    "                moves = set(self.findi(cb,'O'))\n",
    "                moves.add(cell)\n",
    "                if self.is_winner(moves) is not False:\n",
    "                    return cell        \n",
    "\n",
    "        ps = np.zeros(9)\n",
    "        #choose a move by sampling the probability distributions and randomly pick the best one.\n",
    "        for i in ind:\n",
    "            ps[i] = stats.beta.rvs(prob_dist[i][0],prob_dist[i][0],0,1,1)[0]\n",
    "        return ps.argmax()\n",
    "    \n",
    "    def play_token(self,current_board,i):\n",
    "        \"\"\"\n",
    "        Update gameboard based on current play\n",
    "        \"\"\"\n",
    "        nu_O = current_board.count('O')\n",
    "        nu_X = current_board.count('X')\n",
    "        #update gameboard\n",
    "        if nu_X>nu_O: #it's O's turn:\n",
    "            return (current_board[:i] + 'O' + current_board[(i+1):])\n",
    "        else:    \n",
    "            return (current_board[:i] + 'X' + current_board[(i+1):])\n",
    "    \n",
    "    def move(self,board):\n",
    "        \"\"\"\n",
    "            Make a move\n",
    "        \"\"\"\n",
    "        #check if there's an entry and get probability distribution for that board\n",
    "        prob = self.is_entry(board)\n",
    "        #make a move\n",
    "        move_i = self.make_move(prob,board)\n",
    "        #then play token, updating the board accordingly\n",
    "        board = self.play_token(board,move_i)\n",
    "        return board\n",
    "\n",
    "    def update_dict(self,mdict,pmoves,wt = 1):\n",
    "        \"\"\"\n",
    "        updates the move_dict based on the players moves (that led to a win)\n",
    "        \"\"\"\n",
    "        for board,cell in pmoves.items():\n",
    "            #get current prob\n",
    "            p = mdict[board]\n",
    "            #improve cell\n",
    "            if wt == 1: #if a positive result\n",
    "                p[cell][0] = p[cell][0] + 1\n",
    "            else:\n",
    "                p[cell][1] = p[cell][1] + 1\n",
    "            mdict[board] = p\n",
    "        return mdict\n",
    "\n",
    "    def show_game(self,board,fig,ax):\n",
    "        \"\"\"\n",
    "        Plots the board, returns boolean when game ends\n",
    "        \"\"\"\n",
    "        over = False\n",
    "\n",
    "        #set up the plot space\n",
    "        ax.set_xlim(0.5,3.5)\n",
    "        ax.set_ylim(0.5,3.5)\n",
    "        ax.axhline(1.5,color='grey')\n",
    "        ax.axhline(2.5,color='grey')\n",
    "        ax.axvline(1.5,color='grey')\n",
    "        ax.axvline(2.5,color='grey')\n",
    "        ax.axes.get_xaxis().set_visible(False)\n",
    "        ax.axes.get_yaxis().set_visible(False)\n",
    "\n",
    "        play_x = set(self.findi(board,'X'))\n",
    "        play_o = set(self.findi(board,'O'))\n",
    "        cel_coord = {0:(1,3),1:(2,3),2:(3,3),3:(1,2),4:(2,2),5:(3,2),6:(1,1),7:(2,1),8:(3,1)}\n",
    "        for i in play_x:\n",
    "            ax.plot(cel_coord[i][0],cel_coord[i][1],'kX',markersize=52)\n",
    "\n",
    "            #check if winner yet\n",
    "            if self.is_winner(play_x):\n",
    "                winning_set = self.is_winner(play_x)\n",
    "                pnt1 = -1\n",
    "                pnt2 = -1\n",
    "                for pnt in winning_set:\n",
    "                    if (pnt1==-1)&(pnt2==-1):\n",
    "                        pnt1 = pnt\n",
    "                    else:\n",
    "                        pnt2 = copy.deepcopy(pnt1)\n",
    "                        pnt1 = pnt\n",
    "                        ax.plot([cel_coord[pnt1][0],cel_coord[pnt2][0]],[cel_coord[pnt1][1],cel_coord[pnt2][1]],'g-',\\\n",
    "                                linewidth=4)\n",
    "                over = True\n",
    "        for i in play_o:\n",
    "            ax.plot(cel_coord[i][0],cel_coord[i][1],'ro',markeredgewidth=20,markerfacecolor='w',markersize=52)\n",
    "\n",
    "            #check if winner yet\n",
    "            if self.is_winner(play_o):\n",
    "                winning_set = self.is_winner(play_o)\n",
    "                pnt1 = -1\n",
    "                pnt2 = -1\n",
    "                for pnt in winning_set:\n",
    "                    if (pnt1==-1)&(pnt2==-1):\n",
    "                        pnt1 = pnt\n",
    "                    else:\n",
    "                        pnt2 = copy.deepcopy(pnt1)\n",
    "                        pnt1 = pnt\n",
    "                        ax.plot([cel_coord[pnt1][0],cel_coord[pnt2][0]],[cel_coord[pnt1][1],cel_coord[pnt2][1]],'g-',\\\n",
    "                                linewidth=4)\n",
    "                over = True\n",
    "        display(fig)\n",
    "        clear_output(wait = True)\n",
    "        return over\n"
   ]
  },
  {
   "cell_type": "code",
   "execution_count": 6,
   "metadata": {},
   "outputs": [],
   "source": [
    "a = T3Player()"
   ]
  },
  {
   "cell_type": "code",
   "execution_count": 7,
   "metadata": {},
   "outputs": [
    {
     "data": {
      "text/plain": [
       "Text(0.5, 1.0, 'XEOEOOEXO')"
      ]
     },
     "execution_count": 7,
     "metadata": {},
     "output_type": "execute_result"
    },
    {
     "data": {
      "image/png": "[encoded data removed]",
      "text/plain": [
       "<Figure size 720x720 with 1 Axes>"
      ]
     },
     "metadata": {
      "needs_background": "light"
     },
     "output_type": "display_data"
    }
   ],
   "source": [
    "board = \"EEOEOOEXO\"\n",
    "fig = plt.figure(figsize=(10,10))\n",
    "ax = fig.add_subplot(111)\n",
    "a.show_game(board,fig,ax)\n",
    "time.sleep(.5)\n",
    "board = a.move(board)\n",
    "a.show_game(board,fig,ax)\n",
    "plt.title(board)"
   ]
  },
  {
   "cell_type": "code",
   "execution_count": 8,
   "metadata": {},
   "outputs": [
    {
     "name": "stdout",
     "output_type": "stream",
     "text": [
      "Please click\n",
      "clicked [(0.052688172043010795, -0.001804432888988794), (1.7086021505376339, 0.2463212066024172), (3.3349462365591394, 0.315796385660011)]\n"
     ]
    },
    {
     "data": {
      "image/png": "[encoded data removed]",
      "text/plain": [
       "<Figure size 432x286 with 1 Axes>"
      ]
     },
     "metadata": {
      "needs_background": "light"
     },
     "output_type": "display_data"
    }
   ],
   "source": [
    "t = np.arange(10)\n",
    "%matplotlib qt\n",
    "plt.plot(t, np.sin(t))\n",
    "print(\"Please click\")\n",
    "x = plt.ginput(3)\n",
    "print(\"clicked\", x)\n",
    "plt.show()"
   ]
  },
  {
   "cell_type": "code",
   "execution_count": null,
   "metadata": {},
   "outputs": [],
   "source": []
  }
 ],
 "metadata": {
  "kernelspec": {
   "display_name": "Python 3",
   "language": "python",
   "name": "python3"
  },
  "language_info": {
   "codemirror_mode": {
    "name": "ipython",
    "version": 3
   },
   "file_extension": ".py",
   "mimetype": "text/x-python",
   "name": "python",
   "nbconvert_exporter": "python",
   "pygments_lexer": "ipython3",
   "version": "3.8.3"
  }
 },
 "nbformat": 4,
 "nbformat_minor": 4
}
